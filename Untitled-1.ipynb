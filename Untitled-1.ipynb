{
 "cells": [
  {
   "cell_type": "code",
   "execution_count": null,
   "metadata": {},
   "outputs": [],
   "source": [
    "from transformers import BertTokenizer, BertForSequenceClassification\n",
    "import torch\n",
    "\n",
    "# Inizializza il tokenizer e il modello\n",
    "tokenizer = BertTokenizer.from_pretrained(\"dbmdz/bert-base-italian-uncased\")\n",
    "model = BertForSequenceClassification.from_pretrained(\"dbmdz/bert-base-italian-uncased\")\n",
    "\n",
    "# Prepara il testo\n",
    "text = \"Questo prodotto è fantastico!\"\n",
    "\n",
    "# Tokenizza e ottieni l'output del modello\n",
    "inputs = tokenizer(text, padding=True, truncation=True, return_tensors=\"pt\")\n",
    "outputs = model(**inputs)\n",
    "\n",
    "# Ottieni la predizione\n",
    "logits = outputs.logits\n",
    "predicted_class_idx = torch.argmax(logits, dim=1).item()\n",
    "\n",
    "# Stampa la classe prevista (0 per negativo, 1 per positivo)\n",
    "print(f\"Classe prevista: {predicted_class_idx}\")"
   ]
  }
 ],
 "metadata": {
  "kernelspec": {
   "display_name": "yolo3.10",
   "language": "python",
   "name": "python3"
  },
  "language_info": {
   "name": "python",
   "version": "3.10.13"
  },
  "orig_nbformat": 4
 },
 "nbformat": 4,
 "nbformat_minor": 2
}
