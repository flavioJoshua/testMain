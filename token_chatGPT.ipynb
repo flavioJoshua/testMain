{
 "cells": [
  {
   "cell_type": "code",
   "execution_count": 6,
   "metadata": {},
   "outputs": [],
   "source": [
    "import json \n",
    "import  os\n"
   ]
  },
  {
   "cell_type": "code",
   "execution_count": 11,
   "metadata": {},
   "outputs": [],
   "source": [
    "def CheckJson2JsonlFromFile(pathFile):\n",
    "    \"\"\" controlla  la presenza  di ritorno a capo  \\n in un file json \n",
    "    \n",
    "    return:   se è 0 allora  è pronto per  l append  verso un  file jsonl \n",
    "\n",
    "    \"\"\"\n",
    "    # Read the content of the JSON file to identify newline characters (\\n)\n",
    "    file_path = '/mnt/data/Giorgia_news.jsonl'\n",
    "    file_path=pathFile\n",
    "\n",
    "    with open(file_path, 'r') as f:\n",
    "         newline_count= checkJson2JsonlText(f.read()) \n",
    "\n",
    "    # # Count the number of newline characters\n",
    "    # newline_count = content.count('\\n')\n",
    "    return newline_count\n",
    "\n",
    "\n",
    "\n",
    "def   checkJson2JsonlText(json_text=\"\"):\n",
    "    \"\"\"  commento  della  funzione che  restituisce il numero di \\n  di un file json \"\"\"\n",
    "    newline_count=json_text.count('\\n')\n",
    "    return newline_count\n",
    "\n",
    "def replaceJson2JsonlText(json_text=\"\"):\n",
    "    \"\"\" se  trova  in una strigna di json \\n  li leva per  creare un stringa senza  ritorni prova per un file  jsonl \"\"\"\n",
    "    _fix_str=json_text.replace('\\n',' ')\n",
    "    return _fix_str"
   ]
  },
  {
   "cell_type": "code",
   "execution_count": 4,
   "metadata": {},
   "outputs": [
    {
     "name": "stdout",
     "output_type": "stream",
     "text": [
      "/home/flavio/Documents/code/python/testMain\n"
     ]
    },
    {
     "data": {
      "text/plain": [
       "\"\\nwith open('data/Giorgia_news.jsonl', '+r') as giorgiaFile:\\n    # code to work with the file object\\n    _giorgia=dict()\\n    _giorgia=json.load(giorgiaFile) \\n    with open ('data/Giorgia_text.txt','r') as _text:\\n        _giorgia['messages'][1]['content']= _text.read()\\n\\nprint(_giorgia)\\n\""
      ]
     },
     "execution_count": 4,
     "metadata": {},
     "output_type": "execute_result"
    }
   ],
   "source": [
    "\n",
    "print(os.getcwd())\n",
    "\n",
    "with  open('data/Giorgia_news.json','r')  as  giorgia_file:\n",
    "    _giorgiaJson=giorgia_file.read()\n",
    "\n",
    "_giorgiaJsonClean=replaceJson2JsonlText  (_giorgiaJson)\n",
    "with  open('data/Giorgia_text.txt','r') as giorrgia_text:\n",
    "    _testo_articolo=giorrgia_text.read()\n",
    "\n",
    "_testo_articolo_clean=replaceJson2JsonlText(_testo_articolo)\n",
    "\n",
    "\n",
    "_json_text=json.loads( _giorgiaJsonClean)\n",
    "json.dump \n",
    "_json_text['messages'][1]['content']=_testo_articolo_clean\n",
    "\n",
    "\n",
    "\n",
    "with open('data/Giorgia_news2.json', 'w') as f:\n",
    "    json.dump(_json_text, f)\n",
    "\n",
    "with  open ('data/Giorgia_news.jsonl','a') as  _giorgia_jsonl:\n",
    "    _testo=json.dumps(_json_text)\n",
    "    _giorgia_jsonl.write(_testo)\n",
    "    _giorgia_jsonl.write('\\n')\n",
    "\n",
    "\n",
    "\n",
    "\"\"\"\n",
    "with open('data/Giorgia_news.jsonl', '+r') as giorgiaFile:\n",
    "    # code to work with the file object\n",
    "    _giorgia=dict()\n",
    "    _giorgia=json.load(giorgiaFile) \n",
    "    with open ('data/Giorgia_text.txt','r') as _text:\n",
    "        _giorgia['messages'][1]['content']= _text.read()\n",
    "\n",
    "print(_giorgia)\n",
    "\"\"\""
   ]
  },
  {
   "cell_type": "code",
   "execution_count": 12,
   "metadata": {},
   "outputs": [],
   "source": [
    "with  open ('data/Giorgia_news3.json','r') as news3:\n",
    "    _str_news3=replaceJson2JsonlText(news3.read())\n",
    "\n",
    "with  open('data/Giorgia_news4,jsonl','w') as  news4:\n",
    "    news4.write(_str_news3)\n"
   ]
  },
  {
   "cell_type": "code",
   "execution_count": 5,
   "metadata": {
    "tags": [
     "test"
    ]
   },
   "outputs": [
    {
     "data": {
      "text/plain": [
       "19616"
      ]
     },
     "execution_count": 5,
     "metadata": {},
     "output_type": "execute_result"
    }
   ],
   "source": [
    "import  tiktoken\n",
    "\n",
    "enc = tiktoken.get_encoding(\"cl100k_base\")\n",
    "\n",
    "with open('data/Giorgia_news5.jsonl','r') as _giorgia:\n",
    "    _str=_giorgia.read()\n",
    "    _codTiktok=enc.encode(_str)\n",
    "len(_codTiktok)    \n",
    "#print(_codTiktok)"
   ]
  },
  {
   "cell_type": "code",
   "execution_count": 8,
   "metadata": {},
   "outputs": [
    {
     "data": {
      "text/plain": [
       "True"
      ]
     },
     "execution_count": 8,
     "metadata": {},
     "output_type": "execute_result"
    }
   ],
   "source": [
    "import  os \n",
    "from dotenv import load_dotenv\n",
    "load_dotenv()"
   ]
  },
  {
   "cell_type": "code",
   "execution_count": 16,
   "metadata": {},
   "outputs": [
    {
     "data": {
      "text/plain": [
       "<File file id=file-TpRhVdwwfE0kA7N2U0iesHPz at 0x7fdf4e8f1ad0> JSON: {\n",
       "  \"object\": \"file\",\n",
       "  \"id\": \"file-TpRhVdwwfE0kA7N2U0iesHPz\",\n",
       "  \"purpose\": \"fine-tune\",\n",
       "  \"filename\": \"file\",\n",
       "  \"bytes\": 61463,\n",
       "  \"created_at\": 1695336831,\n",
       "  \"status\": \"uploaded\",\n",
       "  \"status_details\": null\n",
       "}"
      ]
     },
     "execution_count": 16,
     "metadata": {},
     "output_type": "execute_result"
    }
   ],
   "source": [
    "import os\n",
    "import openai\n",
    "openai.api_key = os.getenv(\"OPENAI_API_KEY\")\n",
    "openai.File.create(\n",
    "  file=open(\"data/Giorgia_news6.jsonl\", \"rb\"),\n",
    "  purpose='fine-tune'\n",
    ")\n"
   ]
  },
  {
   "cell_type": "code",
   "execution_count": 17,
   "metadata": {},
   "outputs": [
    {
     "data": {
      "text/plain": [
       "<FineTuningJob fine_tuning.job id=ftjob-nbODJ2zyZhsRB6NAy56eRb9c at 0x7fdf3b64b9c0> JSON: {\n",
       "  \"object\": \"fine_tuning.job\",\n",
       "  \"id\": \"ftjob-nbODJ2zyZhsRB6NAy56eRb9c\",\n",
       "  \"model\": \"gpt-3.5-turbo-0613\",\n",
       "  \"created_at\": 1695336857,\n",
       "  \"finished_at\": null,\n",
       "  \"fine_tuned_model\": null,\n",
       "  \"organization_id\": \"org-FA4BODBXotZ0exPrNrujNmIi\",\n",
       "  \"result_files\": [],\n",
       "  \"status\": \"queued\",\n",
       "  \"validation_file\": null,\n",
       "  \"training_file\": \"file-TpRhVdwwfE0kA7N2U0iesHPz\",\n",
       "  \"hyperparameters\": {\n",
       "    \"n_epochs\": 9\n",
       "  },\n",
       "  \"trained_tokens\": null,\n",
       "  \"error\": null\n",
       "}"
      ]
     },
     "execution_count": 17,
     "metadata": {},
     "output_type": "execute_result"
    }
   ],
   "source": [
    "\n",
    "\n",
    "\n",
    "# Creazione del lavoro di fine-tuning con set di dati di addestramento e convalida\n",
    "openai.FineTuningJob.create(\n",
    "    training_file=\"file-TpRhVdwwfE0kA7N2U0iesHPz\",\n",
    "    model=\"gpt-3.5-turbo\",\n",
    "    suffix=\"--jsonl6--\" # Suffisso personalizzato per il nome del modello\n",
    "    \n",
    ")"
   ]
  },
  {
   "cell_type": "code",
   "execution_count": 5,
   "metadata": {},
   "outputs": [
    {
     "data": {
      "text/plain": [
       "<FineTuningJob fine_tuning.job id=ftjob-otInVLxN19EDi1m6uLm7lXvs at 0x7f2966a7f330> JSON: {\n",
       "  \"object\": \"fine_tuning.job\",\n",
       "  \"id\": \"ftjob-otInVLxN19EDi1m6uLm7lXvs\",\n",
       "  \"model\": \"gpt-3.5-turbo-0613\",\n",
       "  \"created_at\": 1695284969,\n",
       "  \"finished_at\": null,\n",
       "  \"fine_tuned_model\": null,\n",
       "  \"organization_id\": \"org-FA4BODBXotZ0exPrNrujNmIi\",\n",
       "  \"result_files\": [],\n",
       "  \"status\": \"queued\",\n",
       "  \"validation_file\": null,\n",
       "  \"training_file\": \"file-pyGFEERt9nN3HfonC82QDsIc\",\n",
       "  \"hyperparameters\": {\n",
       "    \"n_epochs\": 8\n",
       "  },\n",
       "  \"trained_tokens\": null,\n",
       "  \"error\": null\n",
       "}"
      ]
     },
     "execution_count": 5,
     "metadata": {},
     "output_type": "execute_result"
    }
   ],
   "source": [
    "openai.FineTuningJob.create(training_file=\"file-pyGFEERt9nN3HfonC82QDsIc\", model=\"gpt-3.5-turbo\")"
   ]
  },
  {
   "cell_type": "code",
   "execution_count": 7,
   "metadata": {},
   "outputs": [
    {
     "name": "stdout",
     "output_type": "stream",
     "text": [
      "ID: file-dQ1Ywm6y5EIIb9o2kj3bXKL8\n",
      "Stato: processed\n",
      "Scopo: fine-tune\n",
      "---\n",
      "ID: file-pyGFEERt9nN3HfonC82QDsIc\n",
      "Stato: processed\n",
      "Scopo: fine-tune\n",
      "---\n",
      "ID: file-PBI5iGuds39R4zLNBmB5YAgy\n",
      "Stato: processed\n",
      "Scopo: fine-tune\n",
      "---\n",
      "ID: file-J1JEyV1gfLXUos3E2RxHqCTQ\n",
      "Stato: processed\n",
      "Scopo: fine-tune-results\n",
      "---\n",
      "ID: file-tk8LMCzu9KAR3QaCSd3fSHEF\n",
      "Stato: processed\n",
      "Scopo: fine-tune-results\n",
      "---\n",
      "ID: file-R3PKGRYeik5MOgZy1PPFnRk6\n",
      "Stato: processed\n",
      "Scopo: fine-tune\n",
      "---\n",
      "ID: file-Ps1qC1xmRA4ECwDZqMkYLObk\n",
      "Stato: processed\n",
      "Scopo: fine-tune\n",
      "---\n"
     ]
    }
   ],
   "source": [
    "import openai\n",
    "\n",
    "# Elenca tutti i file caricati\n",
    "files = openai.File.list()\n",
    "\n",
    "# Stampa informazioni su ciascun file\n",
    "for file in files['data']:\n",
    "    print(f\"ID: {file['id']}\")\n",
    "    print(f\"Stato: {file['status']}\")\n",
    "    print(f\"Scopo: {file['purpose']}\")\n",
    "    print(\"---\")\n"
   ]
  },
  {
   "cell_type": "code",
   "execution_count": 7,
   "metadata": {},
   "outputs": [
    {
     "data": {
      "text/plain": [
       "<OpenAIObject list at 0x7f2966a7f1f0> JSON: {\n",
       "  \"object\": \"list\",\n",
       "  \"data\": [\n",
       "    {\n",
       "      \"object\": \"fine_tuning.job\",\n",
       "      \"id\": \"ftjob-otInVLxN19EDi1m6uLm7lXvs\",\n",
       "      \"model\": \"gpt-3.5-turbo-0613\",\n",
       "      \"created_at\": 1695284969,\n",
       "      \"finished_at\": null,\n",
       "      \"fine_tuned_model\": null,\n",
       "      \"organization_id\": \"org-FA4BODBXotZ0exPrNrujNmIi\",\n",
       "      \"result_files\": [],\n",
       "      \"status\": \"running\",\n",
       "      \"validation_file\": null,\n",
       "      \"training_file\": \"file-pyGFEERt9nN3HfonC82QDsIc\",\n",
       "      \"hyperparameters\": {\n",
       "        \"n_epochs\": 8\n",
       "      },\n",
       "      \"trained_tokens\": null,\n",
       "      \"error\": null\n",
       "    },\n",
       "    {\n",
       "      \"object\": \"fine_tuning.job\",\n",
       "      \"id\": \"ftjob-NFMzjzRokLMz1uaKoZMj1oNk\",\n",
       "      \"model\": \"gpt-3.5-turbo-0613\",\n",
       "      \"created_at\": 1695251763,\n",
       "      \"finished_at\": 1695252005,\n",
       "      \"fine_tuned_model\": \"ft:gpt-3.5-turbo-0613:personal::810mEQPR\",\n",
       "      \"organization_id\": \"org-FA4BODBXotZ0exPrNrujNmIi\",\n",
       "      \"result_files\": [\n",
       "        \"file-tk8LMCzu9KAR3QaCSd3fSHEF\"\n",
       "      ],\n",
       "      \"status\": \"succeeded\",\n",
       "      \"validation_file\": null,\n",
       "      \"training_file\": \"file-dQ1Ywm6y5EIIb9o2kj3bXKL8\",\n",
       "      \"hyperparameters\": {\n",
       "        \"n_epochs\": 10\n",
       "      },\n",
       "      \"trained_tokens\": 172740,\n",
       "      \"error\": null\n",
       "    }\n",
       "  ],\n",
       "  \"has_more\": false\n",
       "}"
      ]
     },
     "execution_count": 7,
     "metadata": {},
     "output_type": "execute_result"
    }
   ],
   "source": [
    "openai.FineTuningJob.list(limit=10)\n"
   ]
  },
  {
   "cell_type": "code",
   "execution_count": 8,
   "metadata": {},
   "outputs": [
    {
     "data": {
      "text/plain": [
       "<FineTuningJob fine_tuning.job id=ftjob-otInVLxN19EDi1m6uLm7lXvs at 0x7f2966b03560> JSON: {\n",
       "  \"object\": \"fine_tuning.job\",\n",
       "  \"id\": \"ftjob-otInVLxN19EDi1m6uLm7lXvs\",\n",
       "  \"model\": \"gpt-3.5-turbo-0613\",\n",
       "  \"created_at\": 1695284969,\n",
       "  \"finished_at\": 1695285284,\n",
       "  \"fine_tuned_model\": \"ft:gpt-3.5-turbo-0613:personal::819R0NZr\",\n",
       "  \"organization_id\": \"org-FA4BODBXotZ0exPrNrujNmIi\",\n",
       "  \"result_files\": [\n",
       "    \"file-J1JEyV1gfLXUos3E2RxHqCTQ\"\n",
       "  ],\n",
       "  \"status\": \"succeeded\",\n",
       "  \"validation_file\": null,\n",
       "  \"training_file\": \"file-pyGFEERt9nN3HfonC82QDsIc\",\n",
       "  \"hyperparameters\": {\n",
       "    \"n_epochs\": 8\n",
       "  },\n",
       "  \"trained_tokens\": 139368,\n",
       "  \"error\": null\n",
       "}"
      ]
     },
     "execution_count": 8,
     "metadata": {},
     "output_type": "execute_result"
    }
   ],
   "source": [
    "\n",
    "import os\n",
    "import openai\n",
    "openai.api_key = os.getenv(\"OPENAI_API_KEY\")\n",
    "openai.FineTuningJob.retrieve(\"ftjob-otInVLxN19EDi1m6uLm7lXvs\")"
   ]
  },
  {
   "cell_type": "code",
   "execution_count": 4,
   "metadata": {},
   "outputs": [
    {
     "data": {
      "text/plain": [
       "'{\"role\": \"system\", \"content\": \"Context: Questo è un articolo che discute le affermazioni fatte da Giorgia Meloni in difesa di Andrea Giambruno sul tema della violenza sulle donne. La premier Meloni ha sottolineato che le parole di Giambruno sono state fraintese e che lui non intendeva giustificare gli stupratori, ma piuttosto esprimere un consiglio che molti genitori darebbero ai propri figli: essere sempre all\\'erta e fare del proprio meglio per non mettersi in situazioni pericolose. Articolo: Meloni difende Giambruno: \"È stato frainteso. Credo nella libertà di stampa e non gli dico cosa dire\" \"Penso che Andrea Giambruno abbia detto in modo frettoloso e assertivo una cosa diversa da quella intrepretata dai più. Io non leggo in quelle parole \\'se giri in mini gonna ti violentano\\' ma una cosa simile a quella che mi diceva mia madre \\'occhi aperti e testa sulle spalle\\'. Gli stupratori esistono e non bisogna abbassare la guardia\". Lo ha detto la premier Giorgia Meloni rispondendo ad una domanda sulle affermazioni di Andrea Giambruno sulla violenza sulle donne. \"Mia madre me lo ha sempre detto. Bisogna essere sempre presenti a se stessi, fare del proprio meglio per non mettersi nella condizione di consentire a questi animali di fare quello che vorrebbero fare - ha proseguito la premier -. Credo sia un consiglio che molti genitori darebbero ai propri figli, questo non da nessuna giustificazione agli strupatrori\". Questo è un contesto per discutere degli argomenti: Giorgia Meloni, Andrea Giambruno, Libertà di stampa, Violenza sulle donne, Stupratori, Frase fraintesa, Consigli dei genitori, \\'Occhi aperti e testa sulle spalle\\', Responsabilità individuale, Controversia pubblica, Ruolo dei media, Interpretazione delle dichiarazioni, Reazioni pubbliche e critiche --   Key Concepts: Giorgia Meloni, Andrea Giambruno, Women\\'s Safety, Comments, Misunderstood, Risky Situations, Caution.\"},{\"role\": \"user\", \"content\": \"Qual è il punto principale dell\\'articolo?\"},{\"role\": \"assistant\", \"content\": \"Il punto principale dell\\'articolo è che Giorgia Meloni difende Andrea Giambruno, affermando che le sue parole sulla violenza sulle donne sono state fraintese. Secondo Meloni, Giambruno voleva solo dare un consiglio prudenziale che molti genitori darebbero ai propri figli, e non giustificare la violenza sulle donne.\"},{\"role\": \"user\", \"content\": \"Che consiglio ha dato Andrea Giambruno?\"},{\"role\": \"assistant\", \"content\": \"Andrea Giambruno ha detto che le persone dovrebbero avere \\'occhi aperti e testa sulle spalle\\' per evitare situazioni pericolose, un consiglio simile a quello che la madre di Giorgia Meloni le ha sempre dato.\"},{\"role\": \"user\", \"content\": \"Meloni giustifica gli stupratori con le sue affermazioni?\"},{\"role\": \"assistant\", \"content\": \"No, Giorgia Meloni ha espressamente dichiarato che le sue parole e quelle di Andrea Giambruno non danno alcuna giustificazione agli stupratori. Ha detto che il consiglio è qualcosa che molti genitori direbbero ai propri figli per mantenerli al sicuro, ma questo non giustifica gli atti di violenza.\"}'"
      ]
     },
     "execution_count": 4,
     "metadata": {},
     "output_type": "execute_result"
    }
   ],
   "source": [
    "context = \"Context: Questo è un articolo che discute le affermazioni fatte da Giorgia Meloni in difesa di Andrea Giambruno sul tema della violenza sulle donne. La premier Meloni ha sottolineato che le parole di Giambruno sono state fraintese e che lui non intendeva giustificare gli stupratori, ma piuttosto esprimere un consiglio che molti genitori darebbero ai propri figli: essere sempre all'erta e fare del proprio meglio per non mettersi in situazioni pericolose.\"\n",
    "article = \"Articolo: Meloni difende Giambruno: \\\"È stato frainteso. Credo nella libertà di stampa e non gli dico cosa dire\\\" \\\"Penso che Andrea Giambruno abbia detto in modo frettoloso e assertivo una cosa diversa da quella intrepretata dai più. Io non leggo in quelle parole 'se giri in mini gonna ti violentano' ma una cosa simile a quella che mi diceva mia madre 'occhi aperti e testa sulle spalle'. Gli stupratori esistono e non bisogna abbassare la guardia\\\". Lo ha detto la premier Giorgia Meloni rispondendo ad una domanda sulle affermazioni di Andrea Giambruno sulla violenza sulle donne. \\\"Mia madre me lo ha sempre detto. Bisogna essere sempre presenti a se stessi, fare del proprio meglio per non mettersi nella condizione di consentire a questi animali di fare quello che vorrebbero fare - ha proseguito la premier -. Credo sia un consiglio che molti genitori darebbero ai propri figli, questo non da nessuna giustificazione agli strupatrori\\\".\"\n",
    "concepts = \"Questo è un contesto per discutere degli argomenti: Giorgia Meloni, Andrea Giambruno, Libertà di stampa, Violenza sulle donne, Stupratori, Frase fraintesa, Consigli dei genitori, 'Occhi aperti e testa sulle spalle', Responsabilità individuale, Controversia pubblica, Ruolo dei media, Interpretazione delle dichiarazioni, Reazioni pubbliche e critiche --   Key Concepts: Giorgia Meloni, Andrea Giambruno, Women's Safety, Comments, Misunderstood, Risky Situations, Caution.\" \n",
    "# Questions and answers for fine-tuning\n",
    "qa_pairs = [ \n",
    "    {\"question\": \"Qual è il punto principale dell'articolo?\", \"answer\": \"Il punto principale dell'articolo è che Giorgia Meloni difende Andrea Giambruno, affermando che le sue parole sulla violenza sulle donne sono state fraintese. Secondo Meloni, Giambruno voleva solo dare un consiglio prudenziale che molti genitori darebbero ai propri figli, e non giustificare la violenza sulle donne.\"},\n",
    "    {\"question\": \"Che consiglio ha dato Andrea Giambruno?\", \"answer\": \"Andrea Giambruno ha detto che le persone dovrebbero avere 'occhi aperti e testa sulle spalle' per evitare situazioni pericolose, un consiglio simile a quello che la madre di Giorgia Meloni le ha sempre dato.\"},\n",
    "    {\"question\": \"Meloni giustifica gli stupratori con le sue affermazioni?\", \"answer\": \"No, Giorgia Meloni ha espressamente dichiarato che le sue parole e quelle di Andrea Giambruno non danno alcuna giustificazione agli stupratori. Ha detto che il consiglio è qualcosa che molti genitori direbbero ai propri figli per mantenerli al sicuro, ma questo non giustifica gli atti di violenza.\"}\n",
    "]\n",
    "\n",
    "# Create the JSONL string\n",
    "jsonl_str = f'{{\"role\": \"system\", \"content\": \"{context} {article} {concepts }\"}},'\n",
    "for qa in qa_pairs:\n",
    "    jsonl_str += f'{{\"role\": \"user\", \"content\": \"{qa[\"question\"]}\"}},'\n",
    "    jsonl_str += f'{{\"role\": \"assistant\", \"content\": \"{qa[\"answer\"]}\"}},'\n",
    "\n",
    "#levo l'ultima  virgola che  è un errore \n",
    "jsonl_str[0:-1] \n"
   ]
  }
 ],
 "metadata": {
  "kernelspec": {
   "display_name": "yolo3.10",
   "language": "python",
   "name": "python3"
  },
  "language_info": {
   "codemirror_mode": {
    "name": "ipython",
    "version": 3
   },
   "file_extension": ".py",
   "mimetype": "text/x-python",
   "name": "python",
   "nbconvert_exporter": "python",
   "pygments_lexer": "ipython3",
   "version": "3.10.13"
  },
  "orig_nbformat": 4
 },
 "nbformat": 4,
 "nbformat_minor": 2
}
